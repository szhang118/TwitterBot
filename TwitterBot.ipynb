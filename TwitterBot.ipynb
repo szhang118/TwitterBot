{
 "cells": [
  {
   "cell_type": "markdown",
   "metadata": {},
   "source": [
    "Creating a Twitter bot that uses Twitter's streaming API.  This Twitter bot listens to Tweets sent by users you choose. When the selected user(s) send a Tweet the Twitter bot then sends an automated response Tweet.  This particular Bot uses the Python package Tweepy to send the responses.  I hosted this Bot on Amazon Web Services utilizing their free services for new customers."
   ]
  },
  {
   "cell_type": "code",
   "execution_count": 1,
   "metadata": {
    "collapsed": true
   },
   "outputs": [],
   "source": [
    "import ConfigParser\n",
    "import json\n",
    "import random, time, os\n",
    "\n",
    "from tweepy.streaming import StreamListener\n",
    "from tweepy import OAuthHandler\n",
    "from tweepy import Stream\n",
    "from tweepy import API"
   ]
  },
  {
   "cell_type": "markdown",
   "metadata": {},
   "source": [
    "Keep Twitter API credentials in a config file.  Use Python's ConfigParser package to retrieve the API and Token credentials for communicating with the Twitter API. Config file stored on AWS instance along with main script."
   ]
  },
  {
   "cell_type": "code",
   "execution_count": null,
   "metadata": {
    "collapsed": true
   },
   "outputs": [],
   "source": [
    "config = ConfigParser.ConfigParser() \n",
    "config.read('YOUR CONFIG FILE') \n",
    "\n",
    "consumer_key = config.get('API', 'key')\n",
    "consumer_secret = config.get('API', 'secret')\n",
    "access_token = config.get('TOKEN', 'key')\n",
    "access_token_secret = config.get('TOKEN', 'secret')"
   ]
  },
  {
   "cell_type": "markdown",
   "metadata": {},
   "source": [
    "Keep two Python lists with reply messages and hashtags. The script will choose a message and hashtag randomly from these two lists to send in the Tweet."
   ]
  },
  {
   "cell_type": "code",
   "execution_count": null,
   "metadata": {
    "collapsed": true
   },
   "outputs": [],
   "source": [
    "msg_list = [\"Your Messages\"]\n",
    "hashtags = [\"#YourHashtags\"]"
   ]
  },
  {
   "cell_type": "code",
   "execution_count": null,
   "metadata": {
    "collapsed": true
   },
   "outputs": [],
   "source": [
    "auth = OAuthHandler(consumer_key, consumer_secret)\n",
    "auth.set_access_token(access_token, access_token_secret)\n",
    "twitterApi = API(auth)\n",
    "users = [\"YOUR USERS\"]"
   ]
  },
  {
   "cell_type": "markdown",
   "metadata": {},
   "source": [
    "The code below is the main code needed for retrieving Tweets and responding. The script sends an image along with the main Tweet text in 25% of situations based on a randomly generated number."
   ]
  },
  {
   "cell_type": "code",
   "execution_count": null,
   "metadata": {
    "collapsed": true
   },
   "outputs": [],
   "source": [
    "class ReplyToTweet(StreamListener):\n",
    "\n",
    "    def on_status(self, data):\n",
    "        try:\n",
    "            tweet = json.loads(json.dumps(data._json)) #status object to json     \n",
    "            tweetId = tweet[\"id\"]\n",
    "            screenName = tweet[\"user\"][\"screen_name\"]\n",
    "            if screenName == \"YOUR USER\":\n",
    "                msg = \"YOUR USER\" + \" \"+ random.choice(msg_list) + random.randint(1, 6) *\"!\" + \" \" + random.choice(hashtags)\n",
    "                picture = random.random()                \n",
    "                if picture < 0.25: #25% chance of sending a Picture with tweet\n",
    "                    pic = random.choice(os.listdir(\"/home/ubuntu/FOLDER\"))\n",
    "                    pic_path = \"/home/ubuntu/FOLDER/\"  +  pic\n",
    "                    twitterApi.update_with_media(status=msg, in_reply_to_status_id=tweetId, filename=pic_path)\n",
    "                else:\n",
    "                    twitterApi.update_status(status=msg, in_reply_to_status_id=tweetId)\n",
    "        except:\n",
    "            pass\n",
    "\n",
    "    def on_error(self, status):\n",
    "        time.sleep(5)\n",
    "        return True\n",
    "    \n",
    "if __name__ == '__main__':\n",
    "    streamListener = ReplyToTweet()\n",
    "    twitterStream = Stream(auth, streamListener)\n",
    "    twitterStream.userstream(_with=[\"YOUR USER\"]) #stream following accounts"
   ]
  }
 ],
 "metadata": {
  "kernelspec": {
   "display_name": "Python 2",
   "language": "python",
   "name": "python2"
  },
  "language_info": {
   "codemirror_mode": {
    "name": "ipython",
    "version": 2
   },
   "file_extension": ".py",
   "mimetype": "text/x-python",
   "name": "python",
   "nbconvert_exporter": "python",
   "pygments_lexer": "ipython2",
   "version": "2.7.12"
  }
 },
 "nbformat": 4,
 "nbformat_minor": 0
}
